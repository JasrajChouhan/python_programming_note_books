{
  "nbformat": 4,
  "nbformat_minor": 0,
  "metadata": {
    "kernelspec": {
      "name": "python3",
      "display_name": "Python 3"
    },
    "colab": {
      "provenance": [],
      "include_colab_link": true
    },
    "language_info": {
      "name": "python"
    }
  },
  "cells": [
    {
      "cell_type": "markdown",
      "metadata": {
        "id": "view-in-github",
        "colab_type": "text"
      },
      "source": [
        "<a href=\"https://colab.research.google.com/github/JasrajChouhan/python_programming_note_books/blob/main/07_python_lacture.ipynb\" target=\"_parent\"><img src=\"https://colab.research.google.com/assets/colab-badge.svg\" alt=\"Open In Colab\"/></a>"
      ]
    },
    {
      "cell_type": "markdown",
      "metadata": {
        "id": "BNtf_lD2pNm1"
      },
      "source": [
        "# Introduction to Python - Notebook 7"
      ]
    },
    {
      "cell_type": "markdown",
      "metadata": {
        "id": "vEjddKOYmjtK"
      },
      "source": [
        "These notebooks are derived from the lecture series by [rajathkmp] (https://github.com/rajathkmp/) and ported to Python 3 for compatibility with Google Colab.\n",
        "\n",
        "Original IPython Notebooks are available at https://github.com/rajathkumarmp/Python-Lectures"
      ]
    },
    {
      "cell_type": "markdown",
      "metadata": {
        "id": "K-hssmQ6jyJh"
      },
      "source": [
        "#Classes"
      ]
    },
    {
      "cell_type": "markdown",
      "metadata": {
        "id": "WTV2TDROjyJi"
      },
      "source": [
        "Variables, Lists, Dictionaries etc in python is a object. Without getting into the theory part of Object Oriented Programming, explanation of the concepts will be done along this tutorial."
      ]
    },
    {
      "cell_type": "markdown",
      "metadata": {
        "id": "jvbwZlIWjyJk"
      },
      "source": [
        "A class is declared as follows"
      ]
    },
    {
      "cell_type": "code",
      "metadata": {
        "collapsed": true,
        "id": "32VvGli7jyJm"
      },
      "source": [
        "class FirstClass:\n",
        "    pass"
      ],
      "execution_count": null,
      "outputs": []
    },
    {
      "cell_type": "markdown",
      "metadata": {
        "id": "8LdwLlmtjyJo"
      },
      "source": [
        "**pass** in python means do nothing."
      ]
    },
    {
      "cell_type": "markdown",
      "metadata": {
        "id": "vVU34drwjyJp"
      },
      "source": [
        "Above, a class object named \"FirstClass\" is declared now consider a variable \"egclass\" which has all the characteristics of \"FirstClass\". So all you have to do is, equate the \"egclass\" to \"FirstClass\". In python jargon this is called as creating an instance. \"egclass\" is the instance of \"FirstClass\""
      ]
    },
    {
      "cell_type": "code",
      "metadata": {
        "id": "Qvvsz1hkjyJr"
      },
      "source": [
        "egclass = FirstClass()"
      ],
      "execution_count": null,
      "outputs": []
    },
    {
      "cell_type": "code",
      "metadata": {
        "colab": {
          "base_uri": "https://localhost:8080/"
        },
        "id": "Apr0Qh0gjyJt",
        "outputId": "404b3794-9494-4b74-e61a-03b8d03ed893"
      },
      "source": [
        "type(egclass)"
      ],
      "execution_count": null,
      "outputs": [
        {
          "output_type": "execute_result",
          "data": {
            "text/plain": [
              "instance"
            ]
          },
          "metadata": {
            "tags": []
          },
          "execution_count": 4
        }
      ]
    },
    {
      "cell_type": "code",
      "metadata": {
        "colab": {
          "base_uri": "https://localhost:8080/"
        },
        "id": "CFBEMBkajyJx",
        "outputId": "1184a05e-f747-4536-f594-820dbb528344"
      },
      "source": [
        "type(FirstClass)"
      ],
      "execution_count": null,
      "outputs": [
        {
          "output_type": "execute_result",
          "data": {
            "text/plain": [
              "classobj"
            ]
          },
          "metadata": {
            "tags": []
          },
          "execution_count": 5
        }
      ]
    },
    {
      "cell_type": "markdown",
      "metadata": {
        "id": "_darZkkUjyJz"
      },
      "source": [
        "Now let us add some \"functionality\" to the class. So that our \"FirstClass\" is defined in a better way. A function inside a class is called as a \"Method\" of that class"
      ]
    },
    {
      "cell_type": "markdown",
      "metadata": {
        "id": "DdgzEt1ljyJ0"
      },
      "source": [
        "Most of the classes will have a function named \"\\_\\_init\\_\\_\". These are called as magic methods. In this method you basically initialize the variables of that class or any other initial algorithms (which are applicable to all methods) are specified in this method. A variable inside a class is called an attribute."
      ]
    },
    {
      "cell_type": "markdown",
      "metadata": {
        "id": "ODLyMDn3jyJ1"
      },
      "source": [
        "These helps simplify the process of initializing a instance. For example,\n",
        "\n",
        "Without the use of magic method or \\_\\_init\\_\\_ which is otherwise called as constructors. One had to define a **init( )** method and call the **init( )** function."
      ]
    },
    {
      "cell_type": "code",
      "metadata": {
        "colab": {
          "base_uri": "https://localhost:8080/",
          "height": 184
        },
        "id": "iv3TwbeajyJ2",
        "outputId": "f31f9a5f-e082-427b-ee3a-9af0722225d9"
      },
      "source": [
        "eg0 = FirstClass()\n",
        "eg0.init()"
      ],
      "execution_count": null,
      "outputs": [
        {
          "output_type": "error",
          "ename": "AttributeError",
          "evalue": "ignored",
          "traceback": [
            "\u001b[0;31m---------------------------------------------------------------------------\u001b[0m",
            "\u001b[0;31mAttributeError\u001b[0m                            Traceback (most recent call last)",
            "\u001b[0;32m<ipython-input-3-d15e7b8e3d78>\u001b[0m in \u001b[0;36m<module>\u001b[0;34m()\u001b[0m\n\u001b[1;32m      1\u001b[0m \u001b[0meg0\u001b[0m \u001b[0;34m=\u001b[0m \u001b[0mFirstClass\u001b[0m\u001b[0;34m(\u001b[0m\u001b[0;34m)\u001b[0m\u001b[0;34m\u001b[0m\u001b[0;34m\u001b[0m\u001b[0m\n\u001b[0;32m----> 2\u001b[0;31m \u001b[0meg0\u001b[0m\u001b[0;34m.\u001b[0m\u001b[0minit\u001b[0m\u001b[0;34m(\u001b[0m\u001b[0;34m)\u001b[0m\u001b[0;34m\u001b[0m\u001b[0;34m\u001b[0m\u001b[0m\n\u001b[0m",
            "\u001b[0;31mAttributeError\u001b[0m: 'FirstClass' object has no attribute 'init'"
          ]
        }
      ]
    },
    {
      "cell_type": "markdown",
      "metadata": {
        "id": "0uWiQsVijyJ2"
      },
      "source": [
        "But when the constructor is defined the \\_\\_init\\_\\_ is called thus intializing the instance created."
      ]
    },
    {
      "cell_type": "markdown",
      "metadata": {
        "id": "OeTngxeTjyJ4"
      },
      "source": [
        "We will make our \"FirstClass\" to accept two variables name and symbol.\n",
        "\n",
        "I will be explaining about the \"self\" in a while."
      ]
    },
    {
      "cell_type": "code",
      "metadata": {
        "collapsed": true,
        "id": "yPlvFBXHjyJ5"
      },
      "source": [
        "class FirstClass:\n",
        "    def __init__(self,name,symbol):\n",
        "        self.name = name\n",
        "        self.symbol = symbol"
      ],
      "execution_count": null,
      "outputs": []
    },
    {
      "cell_type": "markdown",
      "metadata": {
        "id": "hEQv1jkIjyJ5"
      },
      "source": [
        "Now that we have defined a function and added the \\_\\_init\\_\\_ method. We can create a instance of FirstClass which now accepts two arguments."
      ]
    },
    {
      "cell_type": "code",
      "metadata": {
        "collapsed": true,
        "id": "WT8Lr-cQjyJ6"
      },
      "source": [
        "eg1 = FirstClass('one',1)\n",
        "eg2 = FirstClass('two',2)"
      ],
      "execution_count": null,
      "outputs": []
    },
    {
      "cell_type": "code",
      "metadata": {
        "colab": {
          "base_uri": "https://localhost:8080/"
        },
        "id": "oiyIxrPcjyJ7",
        "outputId": "d18e4d7a-4871-44bd-e349-4785c1dc7ac2"
      },
      "source": [
        "print (eg1.name, eg1.symbol)\n",
        "print (eg2.name, eg2.symbol)"
      ],
      "execution_count": null,
      "outputs": [
        {
          "output_type": "stream",
          "text": [
            "('one', 1)\n",
            "('two', 2)\n"
          ],
          "name": "stdout"
        }
      ]
    },
    {
      "cell_type": "markdown",
      "metadata": {
        "id": "eKxxIvcLjyJ7"
      },
      "source": [
        "**dir( )** function comes very handy in looking into what the class contains and what all method it offers"
      ]
    },
    {
      "cell_type": "code",
      "metadata": {
        "colab": {
          "base_uri": "https://localhost:8080/"
        },
        "id": "wXvG_j7djyJ7",
        "outputId": "611a2035-7458-4c2f-aa47-00e6a1ba57b4"
      },
      "source": [
        "dir(FirstClass)"
      ],
      "execution_count": null,
      "outputs": [
        {
          "output_type": "execute_result",
          "data": {
            "text/plain": [
              "['__class__',\n",
              " '__delattr__',\n",
              " '__dict__',\n",
              " '__dir__',\n",
              " '__doc__',\n",
              " '__eq__',\n",
              " '__format__',\n",
              " '__ge__',\n",
              " '__getattribute__',\n",
              " '__gt__',\n",
              " '__hash__',\n",
              " '__init__',\n",
              " '__init_subclass__',\n",
              " '__le__',\n",
              " '__lt__',\n",
              " '__module__',\n",
              " '__ne__',\n",
              " '__new__',\n",
              " '__reduce__',\n",
              " '__reduce_ex__',\n",
              " '__repr__',\n",
              " '__setattr__',\n",
              " '__sizeof__',\n",
              " '__str__',\n",
              " '__subclasshook__',\n",
              " '__weakref__']"
            ]
          },
          "metadata": {},
          "execution_count": 5
        }
      ]
    },
    {
      "cell_type": "markdown",
      "metadata": {
        "id": "XF1F5E0IjyJ8"
      },
      "source": [
        "**dir( )** of an instance also shows it's defined attributes."
      ]
    },
    {
      "cell_type": "code",
      "metadata": {
        "id": "rRZYWMxqjyJ9",
        "outputId": "36b89fab-7951-473f-f55d-4172eecae273",
        "colab": {
          "base_uri": "https://localhost:8080/"
        }
      },
      "source": [
        "dir(eg1)"
      ],
      "execution_count": null,
      "outputs": [
        {
          "output_type": "execute_result",
          "data": {
            "text/plain": [
              "['__class__',\n",
              " '__delattr__',\n",
              " '__dict__',\n",
              " '__dir__',\n",
              " '__doc__',\n",
              " '__eq__',\n",
              " '__format__',\n",
              " '__ge__',\n",
              " '__getattribute__',\n",
              " '__gt__',\n",
              " '__hash__',\n",
              " '__init__',\n",
              " '__init_subclass__',\n",
              " '__le__',\n",
              " '__lt__',\n",
              " '__module__',\n",
              " '__ne__',\n",
              " '__new__',\n",
              " '__reduce__',\n",
              " '__reduce_ex__',\n",
              " '__repr__',\n",
              " '__setattr__',\n",
              " '__sizeof__',\n",
              " '__str__',\n",
              " '__subclasshook__',\n",
              " '__weakref__',\n",
              " 'name',\n",
              " 'symbol']"
            ]
          },
          "metadata": {},
          "execution_count": 8
        }
      ]
    },
    {
      "cell_type": "markdown",
      "metadata": {
        "id": "ncaEbLqrjyJ-"
      },
      "source": [
        "Changing the FirstClass function a bit,"
      ]
    },
    {
      "cell_type": "code",
      "metadata": {
        "collapsed": true,
        "id": "uCOYr6LTjyJ-"
      },
      "source": [
        "class FirstClass:\n",
        "    def __init__(self,name,symbol):\n",
        "        self.n = name\n",
        "        self.s = symbol"
      ],
      "execution_count": null,
      "outputs": []
    },
    {
      "cell_type": "markdown",
      "metadata": {
        "id": "1lq9fSIqjyJ_"
      },
      "source": [
        "Changing self.name and self.symbol to self.n and self.s respectively will yield,"
      ]
    },
    {
      "cell_type": "code",
      "metadata": {
        "collapsed": true,
        "colab": {
          "base_uri": "https://localhost:8080/",
          "height": 191
        },
        "id": "jN9Op59WjyJ_",
        "outputId": "dacac857-cc56-4664-cd03-f0b1287d7587"
      },
      "source": [
        "eg1 = FirstClass('one',1)\n",
        "eg2 = FirstClass('two',2)"
      ],
      "execution_count": null,
      "outputs": [
        {
          "output_type": "error",
          "ename": "NameError",
          "evalue": "ignored",
          "traceback": [
            "\u001b[0;31m---------------------------------------------------------------------------\u001b[0m",
            "\u001b[0;31mNameError\u001b[0m                                 Traceback (most recent call last)",
            "\u001b[0;32m<ipython-input-1-a93b07da7615>\u001b[0m in \u001b[0;36m<module>\u001b[0;34m()\u001b[0m\n\u001b[0;32m----> 1\u001b[0;31m \u001b[0meg1\u001b[0m \u001b[0;34m=\u001b[0m \u001b[0mFirstClass\u001b[0m\u001b[0;34m(\u001b[0m\u001b[0;34m'one'\u001b[0m\u001b[0;34m,\u001b[0m\u001b[0;36m1\u001b[0m\u001b[0;34m)\u001b[0m\u001b[0;34m\u001b[0m\u001b[0;34m\u001b[0m\u001b[0m\n\u001b[0m\u001b[1;32m      2\u001b[0m \u001b[0meg2\u001b[0m \u001b[0;34m=\u001b[0m \u001b[0mFirstClass\u001b[0m\u001b[0;34m(\u001b[0m\u001b[0;34m'two'\u001b[0m\u001b[0;34m,\u001b[0m\u001b[0;36m2\u001b[0m\u001b[0;34m)\u001b[0m\u001b[0;34m\u001b[0m\u001b[0;34m\u001b[0m\u001b[0m\n",
            "\u001b[0;31mNameError\u001b[0m: name 'FirstClass' is not defined"
          ]
        }
      ]
    },
    {
      "cell_type": "code",
      "metadata": {
        "colab": {
          "base_uri": "https://localhost:8080/",
          "height": 191
        },
        "id": "K2_2tUxcjyKA",
        "outputId": "b4689c5b-d710-4bc9-a7d1-e06e01c36518"
      },
      "source": [
        "print (eg1.name, eg1.symbol)\n",
        "print (eg2.name, eg2.symbol)"
      ],
      "execution_count": null,
      "outputs": [
        {
          "output_type": "error",
          "ename": "AttributeError",
          "evalue": "ignored",
          "traceback": [
            "\u001b[0;31m\u001b[0m",
            "\u001b[0;31mAttributeError\u001b[0mTraceback (most recent call last)",
            "\u001b[0;32m<ipython-input-13-1e025abf832b>\u001b[0m in \u001b[0;36m<module>\u001b[0;34m()\u001b[0m\n\u001b[0;32m----> 1\u001b[0;31m \u001b[0;32mprint\u001b[0m \u001b[0;34m(\u001b[0m\u001b[0meg1\u001b[0m\u001b[0;34m.\u001b[0m\u001b[0mname\u001b[0m\u001b[0;34m,\u001b[0m \u001b[0meg1\u001b[0m\u001b[0;34m.\u001b[0m\u001b[0msymbol\u001b[0m\u001b[0;34m)\u001b[0m\u001b[0;34m\u001b[0m\u001b[0m\n\u001b[0m\u001b[1;32m      2\u001b[0m \u001b[0;32mprint\u001b[0m \u001b[0;34m(\u001b[0m\u001b[0meg2\u001b[0m\u001b[0;34m.\u001b[0m\u001b[0mname\u001b[0m\u001b[0;34m,\u001b[0m \u001b[0meg2\u001b[0m\u001b[0;34m.\u001b[0m\u001b[0msymbol\u001b[0m\u001b[0;34m)\u001b[0m\u001b[0;34m\u001b[0m\u001b[0m\n",
            "\u001b[0;31mAttributeError\u001b[0m: FirstClass instance has no attribute 'name'"
          ]
        }
      ]
    },
    {
      "cell_type": "markdown",
      "metadata": {
        "id": "pX-XVa8ujyKA"
      },
      "source": [
        "AttributeError, Remember variables are nothing but attributes inside a class? So this means we have not given the correct attribute for the instance."
      ]
    },
    {
      "cell_type": "code",
      "metadata": {
        "colab": {
          "base_uri": "https://localhost:8080/"
        },
        "id": "N3dyWQLDjyKB",
        "outputId": "e993db0b-1a92-4d29-a20c-9137121cf2bb"
      },
      "source": [
        "dir(eg1)"
      ],
      "execution_count": null,
      "outputs": [
        {
          "output_type": "execute_result",
          "data": {
            "text/plain": [
              "['__doc__', '__init__', '__module__', 'n', 's']"
            ]
          },
          "metadata": {
            "tags": []
          },
          "execution_count": 14
        }
      ]
    },
    {
      "cell_type": "code",
      "metadata": {
        "colab": {
          "base_uri": "https://localhost:8080/"
        },
        "id": "nofQxBdzjyKC",
        "outputId": "705e660f-cbea-43ed-f7ba-760af83e5d08"
      },
      "source": [
        "print (eg1.n, eg1.s)\n",
        "print (eg2.n, eg2.s)"
      ],
      "execution_count": null,
      "outputs": [
        {
          "output_type": "stream",
          "text": [
            "('one', 1)\n",
            "('two', 2)\n"
          ],
          "name": "stdout"
        }
      ]
    },
    {
      "cell_type": "markdown",
      "metadata": {
        "id": "r18eqLhqjyKD"
      },
      "source": [
        "So now we have solved the error. Now let us compare the two examples that we saw.\n",
        "\n",
        "When I declared self.name and self.symbol, there was no attribute error for eg1.name and eg1.symbol and when I declared self.n and self.s, there was no attribute error for eg1.n and eg1.s\n",
        "\n",
        "From the above we can conclude that self is nothing but the instance itself.\n",
        "\n",
        "Remember, self is not predefined it is userdefined. You can make use of anything you are comfortable with. But it has become a common practice to use self."
      ]
    },
    {
      "cell_type": "code",
      "metadata": {
        "collapsed": true,
        "id": "lXoBUpnljyKE"
      },
      "source": [
        "class FirstClass:\n",
        "    def __init__(asdf1234,name,symbol):\n",
        "        asdf1234.n = name\n",
        "        asdf1234.s = symbol"
      ],
      "execution_count": null,
      "outputs": []
    },
    {
      "cell_type": "markdown",
      "metadata": {
        "id": "ddLwZHgmjyKG"
      },
      "source": [
        "Since eg1 and eg2 are instances of FirstClass it need not necessarily be limited to FirstClass itself. It might extend itself by declaring other attributes without having the attribute to be declared inside the FirstClass."
      ]
    },
    {
      "cell_type": "code",
      "metadata": {
        "collapsed": true,
        "id": "WT2U-mg-jyKH"
      },
      "source": [
        "eg1.cube = 1\n",
        "eg2.cube = 8"
      ],
      "execution_count": null,
      "outputs": []
    },
    {
      "cell_type": "code",
      "metadata": {
        "colab": {
          "base_uri": "https://localhost:8080/"
        },
        "id": "0LzQ4ZGOjyKH",
        "outputId": "f2d61761-321a-4c6e-cbe0-812d566b9ddf"
      },
      "source": [
        "dir(eg1)"
      ],
      "execution_count": null,
      "outputs": [
        {
          "output_type": "execute_result",
          "data": {
            "text/plain": [
              "['__doc__', '__init__', '__module__', 'cube', 'n', 's']"
            ]
          },
          "metadata": {
            "tags": []
          },
          "execution_count": 18
        }
      ]
    },
    {
      "cell_type": "markdown",
      "metadata": {
        "collapsed": true,
        "id": "KhKuF7y8jyKI"
      },
      "source": [
        "Just like global and local variables as we saw earlier, even classes have it's own types of variables.\n",
        "\n",
        "Class Attribute : attributes defined outside the method and is applicable to all the instances.\n",
        "\n",
        "Instance Attribute : attributes defined inside a method and is applicable to only that method and is unique to each instance."
      ]
    },
    {
      "cell_type": "code",
      "metadata": {
        "id": "-g-H4omajyKJ"
      },
      "source": [
        "class FirstClass:\n",
        "    test = 'test'\n",
        "    def __init__(self,name,symbol):\n",
        "        self.name = name\n",
        "        self.symbol = symbol"
      ],
      "execution_count": null,
      "outputs": []
    },
    {
      "cell_type": "markdown",
      "metadata": {
        "id": "2foFgscjjyKK"
      },
      "source": [
        "Here test is a class attribute and name is a instance attribute."
      ]
    },
    {
      "cell_type": "code",
      "metadata": {
        "collapsed": true,
        "id": "0ZLurZ88jyKK"
      },
      "source": [
        "eg3 = FirstClass('Three',3)"
      ],
      "execution_count": null,
      "outputs": []
    },
    {
      "cell_type": "code",
      "metadata": {
        "colab": {
          "base_uri": "https://localhost:8080/"
        },
        "id": "WhwQVZJFjyKL",
        "outputId": "fa153594-717c-41bd-94ca-291ce6840b3c"
      },
      "source": [
        "print (eg3.test, eg3.name)"
      ],
      "execution_count": null,
      "outputs": [
        {
          "output_type": "stream",
          "text": [
            "('test', 'Three')\n"
          ],
          "name": "stdout"
        }
      ]
    },
    {
      "cell_type": "markdown",
      "metadata": {
        "id": "JByoKszSjyKM"
      },
      "source": [
        "Let us add some more methods to FirstClass."
      ]
    },
    {
      "cell_type": "code",
      "metadata": {
        "collapsed": true,
        "id": "J7rpsjSBjyKN"
      },
      "source": [
        "class FirstClass:\n",
        "    def __init__(self,name,symbol):\n",
        "        self.name = name\n",
        "        self.symbol = symbol\n",
        "    def square(self):\n",
        "        return self.symbol * self.symbol\n",
        "    def cube(self):\n",
        "        return self.symbol * self.symbol * self.symbol\n",
        "    def multiply(self, x):\n",
        "        return self.symbol * x"
      ],
      "execution_count": null,
      "outputs": []
    },
    {
      "cell_type": "code",
      "metadata": {
        "collapsed": true,
        "id": "vhb5TOURjyKO"
      },
      "source": [
        "eg4 = FirstClass('Five',5)"
      ],
      "execution_count": null,
      "outputs": []
    },
    {
      "cell_type": "code",
      "metadata": {
        "colab": {
          "base_uri": "https://localhost:8080/"
        },
        "id": "Q9qZm0NGjyKP",
        "outputId": "99a1237c-497a-4dbd-c868-1ec5acec116c"
      },
      "source": [
        "print (eg4.square())\n",
        "print (eg4.cube())"
      ],
      "execution_count": null,
      "outputs": [
        {
          "output_type": "stream",
          "text": [
            "25\n",
            "125\n"
          ],
          "name": "stdout"
        }
      ]
    },
    {
      "cell_type": "code",
      "metadata": {
        "colab": {
          "base_uri": "https://localhost:8080/"
        },
        "id": "DpfNXcBXjyKP",
        "outputId": "90cc1f36-03d0-4780-dd09-43ab4da0ac95"
      },
      "source": [
        "eg4.multiply(2)"
      ],
      "execution_count": null,
      "outputs": [
        {
          "output_type": "execute_result",
          "data": {
            "text/plain": [
              "10"
            ]
          },
          "metadata": {
            "tags": []
          },
          "execution_count": 25
        }
      ]
    },
    {
      "cell_type": "markdown",
      "metadata": {
        "id": "ZgPvM_KVjyKR"
      },
      "source": [
        "The above can also be written as,"
      ]
    },
    {
      "cell_type": "code",
      "metadata": {
        "colab": {
          "base_uri": "https://localhost:8080/"
        },
        "id": "dzvaKsH9jyKR",
        "outputId": "855b56d3-bcf8-490b-f71a-958446ed3818"
      },
      "source": [
        "FirstClass.multiply(eg4,2)"
      ],
      "execution_count": null,
      "outputs": [
        {
          "output_type": "execute_result",
          "data": {
            "text/plain": [
              "10"
            ]
          },
          "metadata": {
            "tags": []
          },
          "execution_count": 26
        }
      ]
    },
    {
      "cell_type": "markdown",
      "metadata": {
        "id": "6aE6epL6jyKS"
      },
      "source": [
        "##Inheritance"
      ]
    },
    {
      "cell_type": "markdown",
      "metadata": {
        "id": "aXo2Um1RjyKT"
      },
      "source": [
        "There might be cases where a new class would have all the previous characteristics of an already defined class. So the new class can \"inherit\" the previous class and add it's own methods to it. This is called as inheritance."
      ]
    },
    {
      "cell_type": "markdown",
      "metadata": {
        "id": "M76at_DojyKT"
      },
      "source": [
        "Consider class SoftwareEngineer which has a method salary."
      ]
    },
    {
      "cell_type": "code",
      "metadata": {
        "collapsed": true,
        "id": "j8wB49Z_jyKU"
      },
      "source": [
        "class SoftwareEngineer:\n",
        "    def __init__(self,name,age):\n",
        "        self.name = name\n",
        "        self.age = age\n",
        "    def salary(self, value):\n",
        "        self.money = value\n",
        "        print (self.name,\" earns \",self.money)"
      ],
      "execution_count": null,
      "outputs": []
    },
    {
      "cell_type": "code",
      "metadata": {
        "id": "YcKq0HaDjyKV"
      },
      "source": [
        "a = SoftwareEngineer('Kartik',26)"
      ],
      "execution_count": null,
      "outputs": []
    },
    {
      "cell_type": "code",
      "metadata": {
        "colab": {
          "base_uri": "https://localhost:8080/"
        },
        "id": "K2sEUtsWjyKV",
        "outputId": "87871085-a4ce-4bea-cbbf-ca26d5f882ea"
      },
      "source": [
        "a.salary(40000)"
      ],
      "execution_count": null,
      "outputs": [
        {
          "output_type": "stream",
          "text": [
            "Kartik  earns  40000\n"
          ],
          "name": "stdout"
        }
      ]
    },
    {
      "cell_type": "code",
      "metadata": {
        "colab": {
          "base_uri": "https://localhost:8080/"
        },
        "id": "7zagVsB_jyKX",
        "outputId": "48952738-dfd3-4b81-8763-a0d036734fdc"
      },
      "source": [
        "dir(SoftwareEngineer)"
      ],
      "execution_count": null,
      "outputs": [
        {
          "output_type": "execute_result",
          "data": {
            "text/plain": [
              "['__doc__', '__init__', '__module__', 'salary']"
            ]
          },
          "metadata": {
            "tags": []
          },
          "execution_count": 30
        }
      ]
    },
    {
      "cell_type": "markdown",
      "metadata": {
        "id": "mZl4yozhjyKX"
      },
      "source": [
        "Now consider another class Artist which tells us about the amount of money an artist earns and his artform."
      ]
    },
    {
      "cell_type": "code",
      "metadata": {
        "id": "X02q2rAIjyKY"
      },
      "source": [
        "class Artist:\n",
        "    def __init__(self,name,age):\n",
        "        self.name = name\n",
        "        self.age = age\n",
        "    def money(self,value):\n",
        "        self.money = value\n",
        "        print (self.name,\"earns\",self.money)\n",
        "    def artform(self, job):\n",
        "        self.job = job\n",
        "        print (self.name,\"is a\",self.job)"
      ],
      "execution_count": null,
      "outputs": []
    },
    {
      "cell_type": "code",
      "metadata": {
        "collapsed": true,
        "id": "MtFl0RjvjyKY"
      },
      "source": [
        "b = Artist('Nitin',20)"
      ],
      "execution_count": null,
      "outputs": []
    },
    {
      "cell_type": "code",
      "metadata": {
        "colab": {
          "base_uri": "https://localhost:8080/"
        },
        "id": "rl9YEAjrjyKY",
        "outputId": "58a63d1d-36cc-4935-df40-aacf2c90eae2"
      },
      "source": [
        "b.money(50000)\n",
        "b.artform('Musician')"
      ],
      "execution_count": null,
      "outputs": [
        {
          "output_type": "stream",
          "text": [
            "Nitin earns 50000\n",
            "Nitin is a Musician\n"
          ],
          "name": "stdout"
        }
      ]
    },
    {
      "cell_type": "code",
      "metadata": {
        "colab": {
          "base_uri": "https://localhost:8080/"
        },
        "id": "FoKXiSUMjyKZ",
        "outputId": "b0bb54c1-0cab-468d-9a26-b5f175cdfef7"
      },
      "source": [
        "dir(Artist)"
      ],
      "execution_count": null,
      "outputs": [
        {
          "output_type": "execute_result",
          "data": {
            "text/plain": [
              "['__class__',\n",
              " '__delattr__',\n",
              " '__dict__',\n",
              " '__dir__',\n",
              " '__doc__',\n",
              " '__eq__',\n",
              " '__format__',\n",
              " '__ge__',\n",
              " '__getattribute__',\n",
              " '__gt__',\n",
              " '__hash__',\n",
              " '__init__',\n",
              " '__init_subclass__',\n",
              " '__le__',\n",
              " '__lt__',\n",
              " '__module__',\n",
              " '__ne__',\n",
              " '__new__',\n",
              " '__reduce__',\n",
              " '__reduce_ex__',\n",
              " '__repr__',\n",
              " '__setattr__',\n",
              " '__sizeof__',\n",
              " '__str__',\n",
              " '__subclasshook__',\n",
              " '__weakref__',\n",
              " 'artform',\n",
              " 'money']"
            ]
          },
          "metadata": {
            "tags": []
          },
          "execution_count": 15
        }
      ]
    },
    {
      "cell_type": "markdown",
      "metadata": {
        "id": "YJYZEoEgjyKZ"
      },
      "source": [
        "money method and salary method are the same. So we can generalize the method to salary and inherit the SoftwareEngineer class to Artist class. Now the artist class becomes,"
      ]
    },
    {
      "cell_type": "code",
      "metadata": {
        "id": "sy5K0uThjyKZ"
      },
      "source": [
        "class Artist(SoftwareEngineer):\n",
        "    def artform(self, job):\n",
        "        self.job = job\n",
        "        print (self.name , \" is a \" , self.job)"
      ],
      "execution_count": null,
      "outputs": []
    },
    {
      "cell_type": "code",
      "metadata": {
        "id": "he52M3gxjyKZ"
      },
      "source": [
        "c = Artist('Nishanth',21)"
      ],
      "execution_count": null,
      "outputs": []
    },
    {
      "cell_type": "code",
      "metadata": {
        "colab": {
          "base_uri": "https://localhost:8080/"
        },
        "id": "9b1AQRoqjyKa",
        "outputId": "8df338c1-aa21-4881-85c0-f0d1f15d2ac5"
      },
      "source": [
        "dir(Artist)"
      ],
      "execution_count": null,
      "outputs": [
        {
          "output_type": "execute_result",
          "data": {
            "text/plain": [
              "['__doc__', '__init__', '__module__', 'artform', 'salary']"
            ]
          },
          "metadata": {
            "tags": []
          },
          "execution_count": 47
        }
      ]
    },
    {
      "cell_type": "code",
      "metadata": {
        "colab": {
          "base_uri": "https://localhost:8080/"
        },
        "id": "_GZURo7VjyKa",
        "outputId": "e3e70273-df92-4039-fcc7-c4472e281af1"
      },
      "source": [
        "c.salary(60000)\n",
        "c.artform('Dancer')"
      ],
      "execution_count": null,
      "outputs": [
        {
          "output_type": "stream",
          "text": [
            "Nishanth  earns  60000\n",
            "Nishanth  is a  Dancer\n"
          ],
          "name": "stdout"
        }
      ]
    },
    {
      "cell_type": "markdown",
      "metadata": {
        "id": "8kAihZF_jyKa"
      },
      "source": [
        "Suppose say while inheriting a particular method is not suitable for the new class. One can override this method by defining again that method with the same name inside the new class."
      ]
    },
    {
      "cell_type": "code",
      "metadata": {
        "collapsed": true,
        "id": "Dj1VOLnWjyKb"
      },
      "source": [
        "class Artist(SoftwareEngineer):\n",
        "    def artform(self, job):\n",
        "        self.job = job\n",
        "        print (self.name , \" is a \" , self.job)\n",
        "    def salary(self, value):\n",
        "        self.money = value\n",
        "        print (self.name , \" earns \" , self.money)\n",
        "        print (\"I am overriding the SoftwareEngineer class's salary method\")"
      ],
      "execution_count": null,
      "outputs": []
    },
    {
      "cell_type": "code",
      "metadata": {
        "collapsed": true,
        "id": "2fxwFqI7jyKc"
      },
      "source": [
        "c = Artist('Nishanth',21)"
      ],
      "execution_count": null,
      "outputs": []
    },
    {
      "cell_type": "code",
      "metadata": {
        "colab": {
          "base_uri": "https://localhost:8080/"
        },
        "id": "bTp30wbAjyKd",
        "outputId": "566f54e1-3d22-4c7d-e361-51573da702cd"
      },
      "source": [
        "c.salary(60000)\n",
        "c.artform('Dancer')"
      ],
      "execution_count": null,
      "outputs": [
        {
          "output_type": "stream",
          "text": [
            "Nishanth  earns  60000\n",
            "I am overriding the SoftwareEngineer class's salary method\n",
            "Nishanth  is a  Dancer\n"
          ],
          "name": "stdout"
        }
      ]
    },
    {
      "cell_type": "markdown",
      "metadata": {
        "id": "yOUpSzoajyKe"
      },
      "source": [
        "If not sure how many times methods will be called it will become difficult to declare so many variables to carry each result hence it is better to declare a list and append the result."
      ]
    },
    {
      "cell_type": "code",
      "metadata": {
        "id": "xB-yVVEDjyKe"
      },
      "source": [
        "class emptylist:\n",
        "    def __init__(self):\n",
        "        self.data = []\n",
        "    def one(self,x):\n",
        "        self.data.append(x)\n",
        "    def two(self, x ):\n",
        "        self.data.append(x**2)\n",
        "    def three(self, x):\n",
        "        self.data.append(x**3)"
      ],
      "execution_count": null,
      "outputs": []
    },
    {
      "cell_type": "code",
      "metadata": {
        "id": "lRaHsPpPjyKf"
      },
      "source": [
        "xc = emptylist()"
      ],
      "execution_count": null,
      "outputs": []
    },
    {
      "cell_type": "code",
      "metadata": {
        "colab": {
          "base_uri": "https://localhost:8080/"
        },
        "id": "nv3_22KQjyKf",
        "outputId": "41471916-f2d6-462a-fc55-a5bec39eba11"
      },
      "source": [
        "xc.one(1)\n",
        "print (xc.data)"
      ],
      "execution_count": null,
      "outputs": [
        {
          "output_type": "stream",
          "text": [
            "[1]\n"
          ],
          "name": "stdout"
        }
      ]
    },
    {
      "cell_type": "markdown",
      "metadata": {
        "id": "mzqxM42qjyKg"
      },
      "source": [
        "Since xc.data is a list direct list operations can also be performed."
      ]
    },
    {
      "cell_type": "code",
      "metadata": {
        "colab": {
          "base_uri": "https://localhost:8080/"
        },
        "id": "90V6gx4IjyKh",
        "outputId": "c43ba338-5dc2-47db-8b89-befb6384b883"
      },
      "source": [
        "xc.data.append(8)\n",
        "print (xc.data)"
      ],
      "execution_count": null,
      "outputs": [
        {
          "output_type": "stream",
          "text": [
            "[1, 8]\n"
          ],
          "name": "stdout"
        }
      ]
    },
    {
      "cell_type": "code",
      "metadata": {
        "colab": {
          "base_uri": "https://localhost:8080/"
        },
        "id": "D08rt67CjyKi",
        "outputId": "23801a1c-72aa-45b9-ae77-5eaf76962841"
      },
      "source": [
        "xc.two(3)\n",
        "print (xc.data)"
      ],
      "execution_count": null,
      "outputs": [
        {
          "output_type": "stream",
          "text": [
            "[1, 8, 9]\n"
          ],
          "name": "stdout"
        }
      ]
    },
    {
      "cell_type": "markdown",
      "metadata": {
        "id": "Wgb6CjhUjyKi"
      },
      "source": [
        "If the number of input arguments varies from instance to instance asterisk can be used as shown."
      ]
    },
    {
      "cell_type": "code",
      "metadata": {
        "id": "FiIF8Gn1jyKj"
      },
      "source": [
        "class NotSure:\n",
        "    def __init__(self, *args):\n",
        "        self.data = ' '.join(list(args))"
      ],
      "execution_count": null,
      "outputs": []
    },
    {
      "cell_type": "code",
      "metadata": {
        "id": "kF2Sbz-NjyKj"
      },
      "source": [
        "yz = NotSure('I', 'Do' , 'Not', 'Know', 'What', 'To','Type')"
      ],
      "execution_count": null,
      "outputs": []
    },
    {
      "cell_type": "code",
      "metadata": {
        "colab": {
          "base_uri": "https://localhost:8080/",
          "height": 36
        },
        "id": "B_XxnCcwjyKk",
        "outputId": "f209e4c0-3600-452f-c4c1-4e472b6d13e0"
      },
      "source": [
        "yz.data"
      ],
      "execution_count": null,
      "outputs": [
        {
          "output_type": "execute_result",
          "data": {
            "application/vnd.google.colaboratory.intrinsic+json": {
              "type": "string"
            },
            "text/plain": [
              "'I Do Not Know What To Type'"
            ]
          },
          "metadata": {
            "tags": []
          },
          "execution_count": 13
        }
      ]
    }
  ]
}
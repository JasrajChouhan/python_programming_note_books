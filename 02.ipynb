{
  "nbformat": 4,
  "nbformat_minor": 0,
  "metadata": {
    "kernelspec": {
      "name": "python3",
      "display_name": "Python 3"
    },
    "colab": {
      "provenance": [],
      "include_colab_link": true
    },
    "language_info": {
      "name": "python"
    }
  },
  "cells": [
    {
      "cell_type": "markdown",
      "metadata": {
        "id": "view-in-github",
        "colab_type": "text"
      },
      "source": [
        "<a href=\"https://colab.research.google.com/github/JasrajChouhan/python_programming_note_books/blob/main/02.ipynb\" target=\"_parent\"><img src=\"https://colab.research.google.com/assets/colab-badge.svg\" alt=\"Open In Colab\"/></a>"
      ]
    },
    {
      "cell_type": "markdown",
      "metadata": {
        "id": "zB_aHV69xre-"
      },
      "source": [
        "# Introduction to Python - Notebook 2"
      ]
    },
    {
      "cell_type": "markdown",
      "metadata": {
        "id": "L5uhY0xext5k"
      },
      "source": [
        "These notebooks are derived from the lecture series by [rajathkmp] (https://github.com/rajathkmp/) and ported to Python 3 for compatibility with Google Colab.\n",
        "\n",
        "Original IPython Notebooks are available at https://github.com/rajathkumarmp/Python-Lectures"
      ]
    },
    {
      "cell_type": "markdown",
      "metadata": {
        "id": "krladcOGu405"
      },
      "source": [
        "#Printing Strings"
      ]
    },
    {
      "cell_type": "markdown",
      "metadata": {
        "id": "sa2j_o7Ju406"
      },
      "source": [
        "The **print** statement can be used in the following different ways :\n",
        "\n",
        "    - print (\"Hello World\")\n",
        "    - print (\"Hello\", <Variable Containing the String>)\n",
        "    - print (\"Hello\" + <Variable Containing the String>)\n",
        "    - print (\"Hello %s\" % <variable containing the string>)"
      ]
    },
    {
      "cell_type": "code",
      "metadata": {
        "colab": {
          "base_uri": "https://localhost:8080/"
        },
        "id": "VU2_02geu407",
        "outputId": "feb598b0-280e-4304-8140-5751d28e933c"
      },
      "source": [
        "print (\"Hello World\")"
      ],
      "execution_count": null,
      "outputs": [
        {
          "output_type": "stream",
          "text": [
            "Hello World\n"
          ],
          "name": "stdout"
        }
      ]
    },
    {
      "cell_type": "markdown",
      "metadata": {
        "id": "t3rAxL7Ku409"
      },
      "source": [
        "In Python, single, double and triple quotes are used to denote a string.\n",
        "Most use single quotes when declaring a single character.\n",
        "Double quotes when declaring a line and triple quotes when declaring a paragraph/multiple lines."
      ]
    },
    {
      "cell_type": "code",
      "metadata": {
        "colab": {
          "base_uri": "https://localhost:8080/"
        },
        "id": "gRNT1IGQu40-",
        "outputId": "d3fde857-bd57-43aa-8ae3-58a6c8680ff6"
      },
      "source": [
        "print ('Hey')"
      ],
      "execution_count": null,
      "outputs": [
        {
          "output_type": "stream",
          "text": [
            "Hey\n"
          ],
          "name": "stdout"
        }
      ]
    },
    {
      "cell_type": "code",
      "metadata": {
        "colab": {
          "base_uri": "https://localhost:8080/"
        },
        "id": "jbYWNGwKu40_",
        "outputId": "c3661723-3ff6-4712-98b7-d70b917b36ca"
      },
      "source": [
        "print (\"\"\"Python is a very friendly and easily readable language.\n",
        "\n",
        "I love Python!\"\"\")"
      ],
      "execution_count": null,
      "outputs": [
        {
          "output_type": "stream",
          "text": [
            "Python is a very friendly and easily readable language.\n",
            "\n",
            "I love Python!\n"
          ],
          "name": "stdout"
        }
      ]
    },
    {
      "cell_type": "markdown",
      "metadata": {
        "id": "QPLFAqBsu40_"
      },
      "source": [
        "Strings can be assigned to variable say _string1_ and _string2_ which can called when using the print statement."
      ]
    },
    {
      "cell_type": "code",
      "metadata": {
        "scrolled": true,
        "colab": {
          "base_uri": "https://localhost:8080/"
        },
        "id": "sF4x7ONWu41A",
        "outputId": "4398fb7a-e6ab-4a34-c823-466619cc461f"
      },
      "source": [
        "string1 = 'World'\n",
        "print ('Hello', string1)\n",
        "\n",
        "string2 = '!'\n",
        "print ('Hello', string1, string2)"
      ],
      "execution_count": null,
      "outputs": [
        {
          "output_type": "stream",
          "text": [
            "Hello World\n",
            "Hello World !\n"
          ],
          "name": "stdout"
        }
      ]
    },
    {
      "cell_type": "markdown",
      "metadata": {
        "id": "IujGpwpIu41B"
      },
      "source": [
        "String concatenation is the \"addition\" of two strings. Observe that while concatenating there will be no space between the strings."
      ]
    },
    {
      "cell_type": "code",
      "metadata": {
        "colab": {
          "base_uri": "https://localhost:8080/"
        },
        "id": "r0IrXMNUu41C",
        "outputId": "8718ea2f-6cce-4180-f5bb-aec0728ac9af"
      },
      "source": [
        "print ('Hello' + string1 + string2)"
      ],
      "execution_count": null,
      "outputs": [
        {
          "output_type": "stream",
          "text": [
            "HelloWorld!\n"
          ],
          "name": "stdout"
        }
      ]
    },
    {
      "cell_type": "markdown",
      "metadata": {
        "id": "U424q1ezu41D"
      },
      "source": [
        "**%s** is used to refer to a variable which contains a string."
      ]
    },
    {
      "cell_type": "code",
      "metadata": {
        "colab": {
          "base_uri": "https://localhost:8080/"
        },
        "id": "blyjmq1ku41E",
        "outputId": "94f7e1fb-6a33-4f98-855e-3d3eb77195b2"
      },
      "source": [
        "print (\"Hello %s\" % string1)"
      ],
      "execution_count": null,
      "outputs": [
        {
          "output_type": "stream",
          "text": [
            "Hello World\n"
          ],
          "name": "stdout"
        }
      ]
    },
    {
      "cell_type": "markdown",
      "metadata": {
        "id": "lSEdYlbsu41F"
      },
      "source": [
        "Similarly, when using other data types\n",
        "\n",
        "    - %s -> string\n",
        "    - %d -> Integer\n",
        "    - %f -> Float\n",
        "    - %o -> Octal\n",
        "    - %x -> Hexadecimal\n",
        "    - %e -> exponential\n",
        "    \n",
        "This can be used for conversions inside the print statement itself."
      ]
    },
    {
      "cell_type": "code",
      "metadata": {
        "colab": {
          "base_uri": "https://localhost:8080/"
        },
        "id": "melS1oZlu41G",
        "outputId": "b78e4d7b-afdf-4ed9-a06f-ccd33fc739f7"
      },
      "source": [
        "print (\"Actual Number = %d\" %18)\n",
        "print (\"Float of the number = %f\" %18)\n",
        "print (\"Octal equivalent of the number = %o\" %18)\n",
        "print (\"Hexadecimal equivalent of the number = %x\" %18)\n",
        "print (\"Exponential equivalent of the number = %e\" %18)"
      ],
      "execution_count": null,
      "outputs": [
        {
          "output_type": "stream",
          "text": [
            "Actual Number = 18\n",
            "Float of the number = 18.000000\n",
            "Octal equivalent of the number = 22\n",
            "Hexadecimal equivalent of the number = 12\n",
            "Exponential equivalent of the number = 1.800000e+01\n"
          ],
          "name": "stdout"
        }
      ]
    },
    {
      "cell_type": "markdown",
      "metadata": {
        "id": "L4O8ClWeu41G"
      },
      "source": [
        "When referring to multiple variables parenthesis is used."
      ]
    },
    {
      "cell_type": "code",
      "metadata": {
        "colab": {
          "base_uri": "https://localhost:8080/"
        },
        "id": "DeZj9l5bu41H",
        "outputId": "9d6e1103-a58f-4b7f-c271-affa73cee9ab"
      },
      "source": [
        "print (\"Hello %s %s\" %(string1,string2))"
      ],
      "execution_count": null,
      "outputs": [
        {
          "output_type": "stream",
          "text": [
            "Hello World !\n"
          ],
          "name": "stdout"
        }
      ]
    },
    {
      "cell_type": "markdown",
      "metadata": {
        "id": "ygG3lV4Cu41H"
      },
      "source": [
        "##Other Examples"
      ]
    },
    {
      "cell_type": "markdown",
      "metadata": {
        "id": "1pOy6f6ku41N"
      },
      "source": [
        "The following are other different ways the print statement can be put to use."
      ]
    },
    {
      "cell_type": "code",
      "metadata": {
        "colab": {
          "base_uri": "https://localhost:8080/"
        },
        "id": "LXDhk4XVu41N",
        "outputId": "315505be-0938-4c20-cc65-8c710aa4002c"
      },
      "source": [
        "print (\"I want %%d to be printed %s\" %'here')"
      ],
      "execution_count": null,
      "outputs": [
        {
          "output_type": "stream",
          "text": [
            "I want %d to be printed here\n"
          ],
          "name": "stdout"
        }
      ]
    },
    {
      "cell_type": "code",
      "metadata": {
        "colab": {
          "base_uri": "https://localhost:8080/"
        },
        "id": "0oNkQsFPu41O",
        "outputId": "ccfbc601-0b4e-4ecf-d8f9-cb5fc8281e26"
      },
      "source": [
        "print ('_A'*10)"
      ],
      "execution_count": null,
      "outputs": [
        {
          "output_type": "stream",
          "text": [
            "_A_A_A_A_A_A_A_A_A_A\n"
          ],
          "name": "stdout"
        }
      ]
    },
    {
      "cell_type": "code",
      "metadata": {
        "colab": {
          "base_uri": "https://localhost:8080/"
        },
        "id": "7oStAYQuu41O",
        "outputId": "1e7802f9-e842-423e-f775-9f6628f3e058"
      },
      "source": [
        "print (\"Jan\\nFeb\\nMar\\nApr\\nMay\\nJun\\nJul\\nAug\")"
      ],
      "execution_count": null,
      "outputs": [
        {
          "output_type": "stream",
          "text": [
            "Jan\n",
            "Feb\n",
            "Mar\n",
            "Apr\n",
            "May\n",
            "Jun\n",
            "Jul\n",
            "Aug\n"
          ],
          "name": "stdout"
        }
      ]
    },
    {
      "cell_type": "code",
      "metadata": {
        "colab": {
          "base_uri": "https://localhost:8080/"
        },
        "id": "Ni_qwosbu41O",
        "outputId": "78f9f5d0-1d06-4de3-f098-c7c503e92fbe"
      },
      "source": [
        "print (\"I want \\\\n to be printed.\")"
      ],
      "execution_count": null,
      "outputs": [
        {
          "output_type": "stream",
          "text": [
            "I want \\n to be printed.\n"
          ],
          "name": "stdout"
        }
      ]
    },
    {
      "cell_type": "code",
      "metadata": {
        "colab": {
          "base_uri": "https://localhost:8080/"
        },
        "id": "2RjZXr2Xu41P",
        "outputId": "158fd631-d86c-4f9b-8e1d-7a53bd538808"
      },
      "source": [
        "print (\"\"\"\n",
        "Routine:\n",
        "\\t- Eat\n",
        "\\t- Sleep\\n\\t- Repeat\n",
        "\"\"\")"
      ],
      "execution_count": null,
      "outputs": [
        {
          "output_type": "stream",
          "text": [
            "\n",
            "Routine:\n",
            "\t- Eat\n",
            "\t- Sleep\n",
            "\t- Repeat\n",
            "\n"
          ],
          "name": "stdout"
        }
      ]
    },
    {
      "cell_type": "markdown",
      "metadata": {
        "id": "_Okssc8Mu41P"
      },
      "source": [
        "#PrecisionWidth and FieldWidth"
      ]
    },
    {
      "cell_type": "markdown",
      "metadata": {
        "id": "7icnZm97u41Q"
      },
      "source": [
        "Fieldwidth is the width of the entire number and precision is the width towards the right. One can alter these widths based on the requirements.\n",
        "\n",
        "The default Precision Width is set to 6."
      ]
    },
    {
      "cell_type": "code",
      "metadata": {
        "colab": {
          "base_uri": "https://localhost:8080/",
          "height": 36
        },
        "id": "24hDOBFbu41Q",
        "outputId": "d3db6994-7576-4db8-ad6f-602084229454"
      },
      "source": [
        "\"%f\" % 3.121312312312"
      ],
      "execution_count": null,
      "outputs": [
        {
          "output_type": "execute_result",
          "data": {
            "application/vnd.google.colaboratory.intrinsic+json": {
              "type": "string"
            },
            "text/plain": [
              "'3.121312'"
            ]
          },
          "metadata": {
            "tags": []
          },
          "execution_count": 16
        }
      ]
    },
    {
      "cell_type": "markdown",
      "metadata": {
        "id": "seLleyksu41R"
      },
      "source": [
        "Notice upto 6 decimal points are returned. To specify the number of decimal points, '%(fieldwidth).(precisionwidth)f' is used."
      ]
    },
    {
      "cell_type": "code",
      "metadata": {
        "colab": {
          "base_uri": "https://localhost:8080/",
          "height": 36
        },
        "id": "4aEuHlj8u41R",
        "outputId": "71ed5920-4ac0-48e1-8c52-2de889827a0c"
      },
      "source": [
        "\"%.5f\" % 3.121312312312"
      ],
      "execution_count": null,
      "outputs": [
        {
          "output_type": "execute_result",
          "data": {
            "application/vnd.google.colaboratory.intrinsic+json": {
              "type": "string"
            },
            "text/plain": [
              "'3.12131'"
            ]
          },
          "metadata": {
            "tags": []
          },
          "execution_count": 17
        }
      ]
    },
    {
      "cell_type": "markdown",
      "metadata": {
        "id": "2vYe3vYuu41R"
      },
      "source": [
        "If the field width is set more than the necessary than the data right aligns itself to adjust to the specified values."
      ]
    },
    {
      "cell_type": "code",
      "metadata": {
        "colab": {
          "base_uri": "https://localhost:8080/",
          "height": 36
        },
        "id": "ANS3OL-su41R",
        "outputId": "d66d6297-0642-45ac-b3f5-e47c3e941410"
      },
      "source": [
        "\"%9.5f\" % 3.121312312312"
      ],
      "execution_count": null,
      "outputs": [
        {
          "output_type": "execute_result",
          "data": {
            "application/vnd.google.colaboratory.intrinsic+json": {
              "type": "string"
            },
            "text/plain": [
              "'  3.12131'"
            ]
          },
          "metadata": {
            "tags": []
          },
          "execution_count": 18
        }
      ]
    },
    {
      "cell_type": "markdown",
      "metadata": {
        "id": "IrbTsg7au41S"
      },
      "source": [
        "Zero padding is done by adding a 0 at the start of fieldwidth."
      ]
    },
    {
      "cell_type": "code",
      "metadata": {
        "colab": {
          "base_uri": "https://localhost:8080/",
          "height": 36
        },
        "id": "sP5fgxIIu41S",
        "outputId": "aa18459d-5dec-448a-927b-74e009e56e87"
      },
      "source": [
        "\"%020.5f\" % 3.121312312312"
      ],
      "execution_count": null,
      "outputs": [
        {
          "output_type": "execute_result",
          "data": {
            "application/vnd.google.colaboratory.intrinsic+json": {
              "type": "string"
            },
            "text/plain": [
              "'00000000000003.12131'"
            ]
          },
          "metadata": {
            "tags": []
          },
          "execution_count": 19
        }
      ]
    },
    {
      "cell_type": "markdown",
      "metadata": {
        "id": "ezSeoAgmu41S"
      },
      "source": [
        "For proper alignment, a space can be left blank in the field width so that when a negative number is used, proper alignment is maintained."
      ]
    },
    {
      "cell_type": "code",
      "metadata": {
        "colab": {
          "base_uri": "https://localhost:8080/"
        },
        "id": "TxQEyxnwu41T",
        "outputId": "91399678-4acc-453a-ffe5-6e0993df617d"
      },
      "source": [
        "print (\"% 9f\" % 3.121312312312)\n",
        "print (\"% 9f\" % -3.121312312312)"
      ],
      "execution_count": null,
      "outputs": [
        {
          "output_type": "stream",
          "text": [
            " 3.121312\n",
            "-3.121312\n"
          ],
          "name": "stdout"
        }
      ]
    },
    {
      "cell_type": "markdown",
      "metadata": {
        "id": "uFhUnMT_u41T"
      },
      "source": [
        "'+' sign can be returned at the beginning of a positive number by adding a + sign at the beginning of the field width."
      ]
    },
    {
      "cell_type": "code",
      "metadata": {
        "colab": {
          "base_uri": "https://localhost:8080/"
        },
        "id": "0MNriqn5u41U",
        "outputId": "b6e932d7-7be9-40e6-9486-c495ab677e15"
      },
      "source": [
        "print (\"%+9f\" % 3.121312312312)\n",
        "print (\"% 9f\" % -3.121312312312)"
      ],
      "execution_count": null,
      "outputs": [
        {
          "output_type": "stream",
          "text": [
            "+3.121312\n",
            "-3.121312\n"
          ],
          "name": "stdout"
        }
      ]
    },
    {
      "cell_type": "markdown",
      "metadata": {
        "id": "xy_kI50Cu41U"
      },
      "source": [
        "As mentioned above, the data right aligns itself when the field width mentioned is larger than the actualy field width. But left alignment can be done by specifying a negative symbol in the field width."
      ]
    },
    {
      "cell_type": "code",
      "metadata": {
        "colab": {
          "base_uri": "https://localhost:8080/",
          "height": 36
        },
        "id": "l2E1lwBDu41U",
        "outputId": "2f29971a-16c0-447a-8be2-2f3208c813b9"
      },
      "source": [
        "\"%-9.3f\" % 3.121312312312"
      ],
      "execution_count": null,
      "outputs": [
        {
          "output_type": "execute_result",
          "data": {
            "application/vnd.google.colaboratory.intrinsic+json": {
              "type": "string"
            },
            "text/plain": [
              "'3.121    '"
            ]
          },
          "metadata": {
            "tags": []
          },
          "execution_count": 24
        }
      ]
    }
  ]
}
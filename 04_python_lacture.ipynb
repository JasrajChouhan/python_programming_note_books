{
  "nbformat": 4,
  "nbformat_minor": 0,
  "metadata": {
    "kernelspec": {
      "name": "python3",
      "display_name": "Python 3"
    },
    "colab": {
      "provenance": [],
      "include_colab_link": true
    },
    "language_info": {
      "name": "python"
    }
  },
  "cells": [
    {
      "cell_type": "markdown",
      "metadata": {
        "id": "view-in-github",
        "colab_type": "text"
      },
      "source": [
        "<a href=\"https://colab.research.google.com/github/JasrajChouhan/python_programming_note_books/blob/main/04_python_lacture.ipynb\" target=\"_parent\"><img src=\"https://colab.research.google.com/assets/colab-badge.svg\" alt=\"Open In Colab\"/></a>"
      ]
    },
    {
      "cell_type": "markdown",
      "metadata": {
        "id": "BNtf_lD2pNm1"
      },
      "source": [
        "# Introduction to Python - Notebook 4"
      ]
    },
    {
      "cell_type": "markdown",
      "metadata": {
        "id": "vEjddKOYmjtK"
      },
      "source": [
        "These notebooks are derived from the lecture series by [rajathkmp] (https://github.com/rajathkmp/) and ported to Python 3 for compatibility with Google Colab.\n",
        "\n",
        "Original IPython Notebooks are available at https://github.com/rajathkumarmp/Python-Lectures"
      ]
    },
    {
      "cell_type": "markdown",
      "metadata": {
        "id": "6uCQtroCHhGi"
      },
      "source": [
        "##Strings"
      ]
    },
    {
      "cell_type": "markdown",
      "metadata": {
        "id": "pazL6NCDHhGk"
      },
      "source": [
        "Strings are ordered text based data which are represented by enclosing the same in single/double/triple quotes."
      ]
    },
    {
      "cell_type": "code",
      "metadata": {
        "id": "WfT74x2wHhGl"
      },
      "source": [
        "String0 = 'Taj Mahal is beautiful'\n",
        "String1 = \"Taj Mahal is beautiful\"\n",
        "String2 = '''Taj Mahal\n",
        "is\n",
        "beautiful'''"
      ],
      "execution_count": null,
      "outputs": []
    },
    {
      "cell_type": "code",
      "metadata": {
        "colab": {
          "base_uri": "https://localhost:8080/"
        },
        "id": "pGFUM7-9HhGn",
        "outputId": "cbdb5adb-6e4d-4825-cf6e-9b0fa8e5c234"
      },
      "source": [
        "print (String0 , type(String0))\n",
        "print (String1, type(String1))\n",
        "print (String2, type(String2))"
      ],
      "execution_count": null,
      "outputs": [
        {
          "output_type": "stream",
          "text": [
            "('Taj Mahal is beautiful', <type 'str'>)\n",
            "('Taj Mahal is beautiful', <type 'str'>)\n",
            "('Taj Mahal\\nis\\nbeautiful', <type 'str'>)\n"
          ],
          "name": "stdout"
        }
      ]
    },
    {
      "cell_type": "markdown",
      "metadata": {
        "id": "wcax_fXtHhGp"
      },
      "source": [
        "String Indexing and Slicing are similar to Lists which was explained in detail earlier."
      ]
    },
    {
      "cell_type": "code",
      "metadata": {
        "colab": {
          "base_uri": "https://localhost:8080/"
        },
        "id": "yyxaKoFCHhGp",
        "outputId": "1d7d5e1a-00f7-46c8-d894-ccf8e946e74c"
      },
      "source": [
        "print (String0[4])\n",
        "print (String0[4:])"
      ],
      "execution_count": null,
      "outputs": [
        {
          "output_type": "stream",
          "text": [
            "M\n",
            "Mahal is beautiful\n"
          ],
          "name": "stdout"
        }
      ]
    },
    {
      "cell_type": "markdown",
      "metadata": {
        "id": "0xLgChgfHhGq"
      },
      "source": [
        "###Built-in Functions"
      ]
    },
    {
      "cell_type": "markdown",
      "metadata": {
        "id": "QkfFPUASHhGr"
      },
      "source": [
        "**find( )** function returns the index value of the given data that is to found in the string. If it is not found it returns **-1**. Remember to not confuse the returned -1 for reverse indexing value."
      ]
    },
    {
      "cell_type": "code",
      "metadata": {
        "colab": {
          "base_uri": "https://localhost:8080/"
        },
        "id": "Xzc1NxExHhGt",
        "outputId": "ff3efaef-6775-4e50-c3b7-0b1eb9eb1189"
      },
      "source": [
        "print (String0.find('al'))\n",
        "print (String0.find('am'))"
      ],
      "execution_count": null,
      "outputs": [
        {
          "output_type": "stream",
          "text": [
            "7\n",
            "-1\n"
          ],
          "name": "stdout"
        }
      ]
    },
    {
      "cell_type": "markdown",
      "metadata": {
        "id": "aA5pVr8tHhGu"
      },
      "source": [
        "The index value returned is the index of the first element in the input data."
      ]
    },
    {
      "cell_type": "code",
      "metadata": {
        "colab": {
          "base_uri": "https://localhost:8080/"
        },
        "id": "b4VPLfphHhGu",
        "outputId": "25df9e7e-edf2-4423-a1b2-4d7ead1d467e"
      },
      "source": [
        "print (String0[7])"
      ],
      "execution_count": null,
      "outputs": [
        {
          "output_type": "stream",
          "text": [
            "a\n"
          ],
          "name": "stdout"
        }
      ]
    },
    {
      "cell_type": "markdown",
      "metadata": {
        "id": "ptRtAb5hHhGu"
      },
      "source": [
        "One can also input **find( )** function between which index values it has to search."
      ]
    },
    {
      "cell_type": "code",
      "metadata": {
        "colab": {
          "base_uri": "https://localhost:8080/"
        },
        "id": "IOZDhfl9HhGu",
        "outputId": "c42cb57f-aeb6-4724-e3dd-6b3c0170c007"
      },
      "source": [
        "print (String0.find('j',1))\n",
        "print (String0.find('j',1,3))"
      ],
      "execution_count": null,
      "outputs": [
        {
          "output_type": "stream",
          "text": [
            "2\n",
            "2\n"
          ],
          "name": "stdout"
        }
      ]
    },
    {
      "cell_type": "markdown",
      "metadata": {
        "id": "mFivEXsVHhGv"
      },
      "source": [
        "**capitalize( )** is used to capitalize the first element in the string."
      ]
    },
    {
      "cell_type": "code",
      "metadata": {
        "colab": {
          "base_uri": "https://localhost:8080/"
        },
        "id": "G9gnxDRDHhGv",
        "outputId": "a6d6ee25-9362-4a92-b03a-0ad81b4edfac"
      },
      "source": [
        "String3 = 'observe the first letter in this sentence.'\n",
        "print (String3.capitalize())"
      ],
      "execution_count": null,
      "outputs": [
        {
          "output_type": "stream",
          "text": [
            "Observe the first letter in this sentence.\n"
          ],
          "name": "stdout"
        }
      ]
    },
    {
      "cell_type": "markdown",
      "metadata": {
        "id": "nVOy6pgdHhGw"
      },
      "source": [
        "**center( )** is used to center align the string by specifying the field width."
      ]
    },
    {
      "cell_type": "code",
      "metadata": {
        "colab": {
          "base_uri": "https://localhost:8080/",
          "height": 36
        },
        "id": "j6ykU3paHhGx",
        "outputId": "4ccb4f01-bdd5-4dc5-dff0-3a3ac1adf60e"
      },
      "source": [
        "String0.center(70)"
      ],
      "execution_count": null,
      "outputs": [
        {
          "output_type": "execute_result",
          "data": {
            "application/vnd.google.colaboratory.intrinsic+json": {
              "type": "string"
            },
            "text/plain": [
              "'                        Taj Mahal is beautiful                        '"
            ]
          },
          "metadata": {
            "tags": []
          },
          "execution_count": 8
        }
      ]
    },
    {
      "cell_type": "markdown",
      "metadata": {
        "id": "eJIjCEnmHhGx"
      },
      "source": [
        "One can also fill the left out spaces with any other character."
      ]
    },
    {
      "cell_type": "code",
      "metadata": {
        "colab": {
          "base_uri": "https://localhost:8080/",
          "height": 36
        },
        "id": "4ENkfHfBHhGy",
        "outputId": "3484ad5e-3ec2-421a-fc0c-3da06743b6bd"
      },
      "source": [
        "String0.center(70,'-')"
      ],
      "execution_count": null,
      "outputs": [
        {
          "output_type": "execute_result",
          "data": {
            "application/vnd.google.colaboratory.intrinsic+json": {
              "type": "string"
            },
            "text/plain": [
              "'------------------------Taj Mahal is beautiful------------------------'"
            ]
          },
          "metadata": {
            "tags": []
          },
          "execution_count": 9
        }
      ]
    },
    {
      "cell_type": "markdown",
      "metadata": {
        "id": "HCcLew-GHhGy"
      },
      "source": [
        "**zfill( )** is used for zero padding by specifying the field width."
      ]
    },
    {
      "cell_type": "code",
      "metadata": {
        "colab": {
          "base_uri": "https://localhost:8080/",
          "height": 36
        },
        "id": "kjh0_2bVHhGz",
        "outputId": "7e095d34-a0bd-4ff5-b503-113f9b4e33d4"
      },
      "source": [
        "String0.zfill(30)"
      ],
      "execution_count": null,
      "outputs": [
        {
          "output_type": "execute_result",
          "data": {
            "application/vnd.google.colaboratory.intrinsic+json": {
              "type": "string"
            },
            "text/plain": [
              "'00000000Taj Mahal is beautiful'"
            ]
          },
          "metadata": {
            "tags": []
          },
          "execution_count": 10
        }
      ]
    },
    {
      "cell_type": "markdown",
      "metadata": {
        "id": "QnSshjYVHhGz"
      },
      "source": [
        "**expandtabs( )** allows you to change the spacing of the tab character. '\\t' which is by default set to 8 spaces."
      ]
    },
    {
      "cell_type": "code",
      "metadata": {
        "colab": {
          "base_uri": "https://localhost:8080/"
        },
        "id": "kkejnmqwHhG0",
        "outputId": "ec7b30fe-741a-4322-9fce-a6622d4a2ff3"
      },
      "source": [
        "s = 'h\\te\\tl\\tl\\to'\n",
        "print (s)\n",
        "print (s.expandtabs(1))\n",
        "print (s.expandtabs())"
      ],
      "execution_count": null,
      "outputs": [
        {
          "output_type": "stream",
          "text": [
            "h\te\tl\tl\to\n",
            "h e l l o\n",
            "h       e       l       l       o\n"
          ],
          "name": "stdout"
        }
      ]
    },
    {
      "cell_type": "markdown",
      "metadata": {
        "collapsed": true,
        "id": "r4SUQhqEHhG1"
      },
      "source": [
        "**index( )** works the same way as **find( )** function the only difference is find returns '-1' when the input element is not found in the string but **index( )** function throws a ValueError"
      ]
    },
    {
      "cell_type": "code",
      "metadata": {
        "colab": {
          "base_uri": "https://localhost:8080/",
          "height": 247
        },
        "id": "l2dgdyKyHhG2",
        "outputId": "77d99436-d564-42bb-ac03-577596fdf2b2"
      },
      "source": [
        "print (String0.index('Taj'))\n",
        "print (String0.index('Mahal',3))\n",
        "print (String0.index('Mahal',10,20))"
      ],
      "execution_count": null,
      "outputs": [
        {
          "output_type": "stream",
          "text": [
            "0\n",
            "4\n"
          ],
          "name": "stdout"
        },
        {
          "output_type": "error",
          "ename": "ValueError",
          "evalue": "ignored",
          "traceback": [
            "\u001b[0;31m\u001b[0m",
            "\u001b[0;31mValueError\u001b[0mTraceback (most recent call last)",
            "\u001b[0;32m<ipython-input-15-825cc76f00f4>\u001b[0m in \u001b[0;36m<module>\u001b[0;34m()\u001b[0m\n\u001b[1;32m      1\u001b[0m \u001b[0;32mprint\u001b[0m \u001b[0;34m(\u001b[0m\u001b[0mString0\u001b[0m\u001b[0;34m.\u001b[0m\u001b[0mindex\u001b[0m\u001b[0;34m(\u001b[0m\u001b[0;34m'Taj'\u001b[0m\u001b[0;34m)\u001b[0m\u001b[0;34m)\u001b[0m\u001b[0;34m\u001b[0m\u001b[0m\n\u001b[1;32m      2\u001b[0m \u001b[0;32mprint\u001b[0m \u001b[0;34m(\u001b[0m\u001b[0mString0\u001b[0m\u001b[0;34m.\u001b[0m\u001b[0mindex\u001b[0m\u001b[0;34m(\u001b[0m\u001b[0;34m'Mahal'\u001b[0m\u001b[0;34m,\u001b[0m\u001b[0;36m3\u001b[0m\u001b[0;34m)\u001b[0m\u001b[0;34m)\u001b[0m\u001b[0;34m\u001b[0m\u001b[0m\n\u001b[0;32m----> 3\u001b[0;31m \u001b[0;32mprint\u001b[0m \u001b[0;34m(\u001b[0m\u001b[0mString0\u001b[0m\u001b[0;34m.\u001b[0m\u001b[0mindex\u001b[0m\u001b[0;34m(\u001b[0m\u001b[0;34m'Mahal'\u001b[0m\u001b[0;34m,\u001b[0m\u001b[0;36m10\u001b[0m\u001b[0;34m,\u001b[0m\u001b[0;36m20\u001b[0m\u001b[0;34m)\u001b[0m\u001b[0;34m)\u001b[0m\u001b[0;34m\u001b[0m\u001b[0m\n\u001b[0m",
            "\u001b[0;31mValueError\u001b[0m: substring not found"
          ]
        }
      ]
    },
    {
      "cell_type": "markdown",
      "metadata": {
        "collapsed": false,
        "id": "zwz0GQukHhG3"
      },
      "source": [
        "**endswith( )** function is used to check if the given string ends with the particular char which is given as input."
      ]
    },
    {
      "cell_type": "code",
      "metadata": {
        "colab": {
          "base_uri": "https://localhost:8080/"
        },
        "id": "BYT514RzHhG3",
        "outputId": "df9babc1-4b73-4d0a-fb8f-a777fe15c14e"
      },
      "source": [
        "print (String0.endswith('y'))"
      ],
      "execution_count": null,
      "outputs": [
        {
          "output_type": "stream",
          "text": [
            "False\n"
          ],
          "name": "stdout"
        }
      ]
    },
    {
      "cell_type": "markdown",
      "metadata": {
        "id": "V7OL1T-6HhG4"
      },
      "source": [
        "The start and stop index values can also be specified."
      ]
    },
    {
      "cell_type": "code",
      "metadata": {
        "colab": {
          "base_uri": "https://localhost:8080/"
        },
        "id": "w2G4IbgBHhG4",
        "outputId": "b45f9791-e8fa-45c8-9be2-0f681280af63"
      },
      "source": [
        "print (String0.endswith('l',0))\n",
        "print (String0.endswith('M',0,5))"
      ],
      "execution_count": null,
      "outputs": [
        {
          "output_type": "stream",
          "text": [
            "True\n",
            "True\n"
          ],
          "name": "stdout"
        }
      ]
    },
    {
      "cell_type": "markdown",
      "metadata": {
        "id": "tq74UpM-HhG4"
      },
      "source": [
        "**count( )** function counts the number of char in the given string. The start and the stop index can also be specified or left blank. (These are Implicit arguments which will be dealt in functions)"
      ]
    },
    {
      "cell_type": "code",
      "metadata": {
        "colab": {
          "base_uri": "https://localhost:8080/"
        },
        "id": "Yhmz26MoHhG5",
        "outputId": "3559a0a8-a605-40f3-bd42-cb9c9a48a183"
      },
      "source": [
        "print (String0.count('a',0))\n",
        "print (String0.count('a',5,10))"
      ],
      "execution_count": null,
      "outputs": [
        {
          "output_type": "stream",
          "text": [
            "4\n",
            "2\n"
          ],
          "name": "stdout"
        }
      ]
    },
    {
      "cell_type": "markdown",
      "metadata": {
        "collapsed": false,
        "id": "X0h3zxtjHhG5"
      },
      "source": [
        "**join( )** function is used add a char in between the elements of the input string."
      ]
    },
    {
      "cell_type": "code",
      "metadata": {
        "colab": {
          "base_uri": "https://localhost:8080/",
          "height": 36
        },
        "id": "Axij2CBiHhG5",
        "outputId": "92c72216-b6d0-479e-d486-1065871bcb95"
      },
      "source": [
        "'a'.join('*_-')"
      ],
      "execution_count": null,
      "outputs": [
        {
          "output_type": "execute_result",
          "data": {
            "application/vnd.google.colaboratory.intrinsic+json": {
              "type": "string"
            },
            "text/plain": [
              "'*a_a-'"
            ]
          },
          "metadata": {
            "tags": []
          },
          "execution_count": 19
        }
      ]
    },
    {
      "cell_type": "markdown",
      "metadata": {
        "id": "XiwPkzihHhG6"
      },
      "source": [
        "'*_-' is the input string and char 'a' is added in between each element"
      ]
    },
    {
      "cell_type": "markdown",
      "metadata": {
        "id": "IPYF8TeWHhG6"
      },
      "source": [
        "**join( )** function can also be used to convert a list into a string."
      ]
    },
    {
      "cell_type": "code",
      "metadata": {
        "colab": {
          "base_uri": "https://localhost:8080/"
        },
        "id": "J0m3izGPHhG7",
        "outputId": "5bed3fdc-dc76-44f8-d502-41caa9623694"
      },
      "source": [
        "a = list(String0)\n",
        "print (a)\n",
        "b = ''.join(a)\n",
        "print (b)"
      ],
      "execution_count": null,
      "outputs": [
        {
          "output_type": "stream",
          "text": [
            "['T', 'a', 'j', ' ', 'M', 'a', 'h', 'a', 'l', ' ', 'i', 's', ' ', 'b', 'e', 'a', 'u', 't', 'i', 'f', 'u', 'l']\n",
            "Taj Mahal is beautiful\n"
          ],
          "name": "stdout"
        }
      ]
    },
    {
      "cell_type": "markdown",
      "metadata": {
        "id": "BnjAD4FZHhG7"
      },
      "source": [
        "Before converting it into a string **join( )** function can be used to insert any char in between the list elements."
      ]
    },
    {
      "cell_type": "code",
      "metadata": {
        "colab": {
          "base_uri": "https://localhost:8080/"
        },
        "id": "-JI3FEKyHhG7",
        "outputId": "cb7b5c8c-b94a-4a0b-dc8c-bc0bd27b35a5"
      },
      "source": [
        "c = '/'.join(a)[18:]\n",
        "print (c)"
      ],
      "execution_count": null,
      "outputs": [
        {
          "output_type": "stream",
          "text": [
            " /i/s/ /b/e/a/u/t/i/f/u/l\n"
          ],
          "name": "stdout"
        }
      ]
    },
    {
      "cell_type": "markdown",
      "metadata": {
        "collapsed": false,
        "id": "EOxKMz2qHhG8"
      },
      "source": [
        "**split( )** function is used to convert a string back to a list. Think of it as the opposite of the **join()** function."
      ]
    },
    {
      "cell_type": "code",
      "metadata": {
        "colab": {
          "base_uri": "https://localhost:8080/"
        },
        "id": "oICleW2YHhG8",
        "outputId": "ffbb00b0-27d6-4748-b7ea-f51fb059b563"
      },
      "source": [
        "d = c.split('/')\n",
        "print (d)"
      ],
      "execution_count": null,
      "outputs": [
        {
          "output_type": "stream",
          "text": [
            "[' ', 'i', 's', ' ', 'b', 'e', 'a', 'u', 't', 'i', 'f', 'u', 'l']\n"
          ],
          "name": "stdout"
        }
      ]
    },
    {
      "cell_type": "markdown",
      "metadata": {
        "id": "M7T6VNhlHhG8"
      },
      "source": [
        "In **split( )** function one can also specify the number of times you want to split the string or the number of elements the new returned list should conatin. The number of elements is always one more than the specified number this is because it is split the number of times specified."
      ]
    },
    {
      "cell_type": "code",
      "metadata": {
        "colab": {
          "base_uri": "https://localhost:8080/"
        },
        "id": "rot4nZjyHhG9",
        "outputId": "b66f60ea-97ad-45a7-a5d2-396dbef72054"
      },
      "source": [
        "e = c.split('/',3)\n",
        "print (e)\n",
        "print (len(e))"
      ],
      "execution_count": null,
      "outputs": [
        {
          "output_type": "stream",
          "text": [
            "[' ', 'i', 's', ' /b/e/a/u/t/i/f/u/l']\n",
            "4\n"
          ],
          "name": "stdout"
        }
      ]
    },
    {
      "cell_type": "markdown",
      "metadata": {
        "id": "iP9U5p3SHhG9"
      },
      "source": [
        "**lower( )** converts any capital letter to small letter."
      ]
    },
    {
      "cell_type": "code",
      "metadata": {
        "colab": {
          "base_uri": "https://localhost:8080/"
        },
        "id": "yMNiinTYHhG9",
        "outputId": "ffaf79c2-6b2b-4657-d9c2-8ab96b7b3fd6"
      },
      "source": [
        "print (String0)\n",
        "print (String0.lower())"
      ],
      "execution_count": null,
      "outputs": [
        {
          "output_type": "stream",
          "text": [
            "Taj Mahal is beautiful\n",
            "taj mahal is beautiful\n"
          ],
          "name": "stdout"
        }
      ]
    },
    {
      "cell_type": "markdown",
      "metadata": {
        "id": "sc8vuG-HHhG9"
      },
      "source": [
        "**upper( )** converts any small letter to capital letter."
      ]
    },
    {
      "cell_type": "code",
      "metadata": {
        "colab": {
          "base_uri": "https://localhost:8080/",
          "height": 36
        },
        "id": "RaqD8fGwHhG-",
        "outputId": "8b67bb44-5ded-4db6-e2a3-016d8fce885e"
      },
      "source": [
        "String0.upper()"
      ],
      "execution_count": null,
      "outputs": [
        {
          "output_type": "execute_result",
          "data": {
            "application/vnd.google.colaboratory.intrinsic+json": {
              "type": "string"
            },
            "text/plain": [
              "'TAJ MAHAL IS BEAUTIFUL'"
            ]
          },
          "metadata": {
            "tags": []
          },
          "execution_count": 26
        }
      ]
    },
    {
      "cell_type": "markdown",
      "metadata": {
        "id": "5QUIOJ_UHhG-"
      },
      "source": [
        "**replace( )** function replaces the element with another element."
      ]
    },
    {
      "cell_type": "code",
      "metadata": {
        "colab": {
          "base_uri": "https://localhost:8080/",
          "height": 36
        },
        "id": "XFHcg4EPHhG-",
        "outputId": "443d6b2b-478e-4d3d-edc0-77b5abf75f84"
      },
      "source": [
        "String0.replace('Taj Mahal','Bengaluru')"
      ],
      "execution_count": null,
      "outputs": [
        {
          "output_type": "execute_result",
          "data": {
            "application/vnd.google.colaboratory.intrinsic+json": {
              "type": "string"
            },
            "text/plain": [
              "'Bengaluru is beautiful'"
            ]
          },
          "metadata": {
            "tags": []
          },
          "execution_count": 27
        }
      ]
    },
    {
      "cell_type": "markdown",
      "metadata": {
        "id": "N69_AZy8HhG-"
      },
      "source": [
        "**strip( )** function is used to delete elements from the right end and the left end which is not required."
      ]
    },
    {
      "cell_type": "code",
      "metadata": {
        "collapsed": true,
        "colab": {
          "base_uri": "https://localhost:8080/"
        },
        "id": "VU6OM4otHhG-",
        "outputId": "ac31754d-6c41-4428-c5c0-bdd2a01e1128"
      },
      "source": [
        "f = '    hello      '\n",
        "print (f.strip())"
      ],
      "execution_count": null,
      "outputs": [
        {
          "output_type": "stream",
          "text": [
            "hello\n"
          ],
          "name": "stdout"
        }
      ]
    },
    {
      "cell_type": "markdown",
      "metadata": {
        "id": "OInFybujHhG_"
      },
      "source": [
        "If no char is specified then it will delete all the spaces that is present in the right and left hand side of the data. When a char is specified then it deletes that char if it is present in the two ends of the specified string."
      ]
    },
    {
      "cell_type": "code",
      "metadata": {
        "collapsed": true,
        "colab": {
          "base_uri": "https://localhost:8080/"
        },
        "id": "cQe8FtvaHhG_",
        "outputId": "6b9ce1fc-a83b-42c4-a9f1-ed2435597466"
      },
      "source": [
        "s = '   ***----hello---*******     '\n",
        "print (s.strip('*'))"
      ],
      "execution_count": null,
      "outputs": [
        {
          "output_type": "stream",
          "text": [
            "   ***----hello---*******     \n"
          ],
          "name": "stdout"
        }
      ]
    },
    {
      "cell_type": "markdown",
      "metadata": {
        "id": "e9Vev73-HhHA"
      },
      "source": [
        "The asterisk had to be deleted but is not. This is because there is a space in both the right and left hand side. So in strip function. The characters need to be inputted in the specific order in which they are present."
      ]
    },
    {
      "cell_type": "code",
      "metadata": {
        "colab": {
          "base_uri": "https://localhost:8080/"
        },
        "id": "lC-eYGBfHhHC",
        "outputId": "eadbdbd7-5617-4fce-abe8-090e164ed81b"
      },
      "source": [
        "print (f.strip(' *'))\n",
        "print (f.strip(' *-'))"
      ],
      "execution_count": null,
      "outputs": [
        {
          "output_type": "stream",
          "text": [
            "----hello---\n",
            "hello\n"
          ],
          "name": "stdout"
        }
      ]
    },
    {
      "cell_type": "markdown",
      "metadata": {
        "collapsed": false,
        "id": "5myHwAAOHhHC"
      },
      "source": [
        "**lstrip( )** and **rstrip( )** function have the same functionality as strip function but the only difference is **lstrip( )** deletes only towards the left side and **rstrip( )** towards the right."
      ]
    },
    {
      "cell_type": "code",
      "metadata": {
        "colab": {
          "base_uri": "https://localhost:8080/"
        },
        "id": "Tvnz3_KMHhHD",
        "outputId": "6f4cc5c6-9639-4832-8f11-b2530c6ac84c"
      },
      "source": [
        "print (f.lstrip(' *'))\n",
        "print (f.rstrip(' *'))"
      ],
      "execution_count": null,
      "outputs": [
        {
          "output_type": "stream",
          "text": [
            "----hello---*******     \n",
            "   ***----hello---\n"
          ],
          "name": "stdout"
        }
      ]
    },
    {
      "cell_type": "markdown",
      "metadata": {
        "id": "VFv13zZ1HhHD"
      },
      "source": [
        "##Dictionaries"
      ]
    },
    {
      "cell_type": "markdown",
      "metadata": {
        "id": "nskXmbOwHhHD"
      },
      "source": [
        "Dictionaries are more used like a database because here you can index a particular sequence with your user defined string."
      ]
    },
    {
      "cell_type": "markdown",
      "metadata": {
        "id": "AbDVblv_HhHD"
      },
      "source": [
        "To define a dictionary, equate a variable to { } or dict()"
      ]
    },
    {
      "cell_type": "code",
      "metadata": {
        "colab": {
          "base_uri": "https://localhost:8080/"
        },
        "id": "q_rSbZrrHhHF",
        "outputId": "b19d0172-c52b-4a74-ec8f-addc2f5d788f"
      },
      "source": [
        "d0 = {}\n",
        "d1 = dict()\n",
        "print (type(d0), type(d1))"
      ],
      "execution_count": null,
      "outputs": [
        {
          "output_type": "stream",
          "text": [
            "<class 'dict'> <class 'dict'>\n"
          ],
          "name": "stdout"
        }
      ]
    },
    {
      "cell_type": "markdown",
      "metadata": {
        "id": "DiHKKv6JHhHF"
      },
      "source": [
        "Dictionary works somewhat like a list but with an added capability of assigning it's own index style."
      ]
    },
    {
      "cell_type": "code",
      "metadata": {
        "colab": {
          "base_uri": "https://localhost:8080/"
        },
        "id": "I5cEgUUaHhHG",
        "outputId": "28d8dc63-4a03-4699-bc3b-59e1bd135560"
      },
      "source": [
        "d0['One'] = 1\n",
        "d0['OneTwo'] = 12\n",
        "print (d0)"
      ],
      "execution_count": null,
      "outputs": [
        {
          "output_type": "stream",
          "text": [
            "{'One': 1, 'OneTwo': 12}\n"
          ],
          "name": "stdout"
        }
      ]
    },
    {
      "cell_type": "markdown",
      "metadata": {
        "id": "5_O0OVQKHhHH"
      },
      "source": [
        "That is how a dictionary looks like. Now you are able to access '1' by the index value set at 'One'"
      ]
    },
    {
      "cell_type": "code",
      "metadata": {
        "colab": {
          "base_uri": "https://localhost:8080/"
        },
        "id": "jdWTebQpHhHH",
        "outputId": "41fcdeaa-b815-4647-fb4d-b9a9504130db"
      },
      "source": [
        "print (d0['One'])"
      ],
      "execution_count": null,
      "outputs": [
        {
          "output_type": "stream",
          "text": [
            "1\n"
          ],
          "name": "stdout"
        }
      ]
    },
    {
      "cell_type": "markdown",
      "metadata": {
        "id": "cleEcbYOHhHH"
      },
      "source": [
        "Two lists which are related can be merged to form a dictionary."
      ]
    },
    {
      "cell_type": "code",
      "metadata": {
        "id": "k8HilwyZHhHI"
      },
      "source": [
        "names = ['One', 'Two', 'Three', 'Four', 'Five']\n",
        "numbers = [1, 2, 3, 4, 5]"
      ],
      "execution_count": null,
      "outputs": []
    },
    {
      "cell_type": "markdown",
      "metadata": {
        "id": "je-NgeHwHhHJ"
      },
      "source": [
        "**zip( )** function is used to combine two lists"
      ]
    },
    {
      "cell_type": "code",
      "metadata": {
        "colab": {
          "base_uri": "https://localhost:8080/"
        },
        "id": "moeWrRzhHhHJ",
        "outputId": "12480188-282d-475f-ed1a-e8b55525fd0c"
      },
      "source": [
        "d2 = zip(names,numbers)\n",
        "dict_list=list(d2)\n",
        "print (d2)\n",
        "print (dict_list)"
      ],
      "execution_count": null,
      "outputs": [
        {
          "output_type": "stream",
          "text": [
            "<zip object at 0x7fd0431fa8c0>\n",
            "[('One', 1), ('Two', 2), ('Three', 3), ('Four', 4), ('Five', 5)]\n"
          ],
          "name": "stdout"
        }
      ]
    },
    {
      "cell_type": "markdown",
      "metadata": {
        "collapsed": false,
        "id": "d0hb857GHhHJ"
      },
      "source": [
        "The two lists are combined to form a single list and each elements are clubbed with their respective elements from the other list inside a tuple. Tuples because that is what is assigned and the value should not change.\n",
        "\n",
        "Further, To convert the above into a dictionary. **dict( )** function is used."
      ]
    },
    {
      "cell_type": "code",
      "metadata": {
        "colab": {
          "base_uri": "https://localhost:8080/"
        },
        "id": "RjCrcHp_HhHK",
        "outputId": "1a09b0f5-e570-49b1-bc83-f22b56b2db3f"
      },
      "source": [
        "a1 = dict(dict_list)\n",
        "print (a1)"
      ],
      "execution_count": null,
      "outputs": [
        {
          "output_type": "stream",
          "text": [
            "{'One': 1, 'Two': 2, 'Three': 3, 'Four': 4, 'Five': 5}\n"
          ],
          "name": "stdout"
        }
      ]
    },
    {
      "cell_type": "markdown",
      "metadata": {
        "id": "t02nCqqSHhHK"
      },
      "source": [
        "###Built-in Functions"
      ]
    },
    {
      "cell_type": "markdown",
      "metadata": {
        "id": "MWrienJiHhHK"
      },
      "source": [
        "**clear( )** function is used to erase the entire database that was created."
      ]
    },
    {
      "cell_type": "code",
      "metadata": {
        "colab": {
          "base_uri": "https://localhost:8080/"
        },
        "id": "nxrrPVvgHhHK",
        "outputId": "4c855ae2-d4db-44d6-c2cf-bee7d9d426f3"
      },
      "source": [
        "a1.clear()\n",
        "print (a1)"
      ],
      "execution_count": null,
      "outputs": [
        {
          "output_type": "stream",
          "text": [
            "{}\n"
          ],
          "name": "stdout"
        }
      ]
    },
    {
      "cell_type": "markdown",
      "metadata": {
        "id": "jXFm4tKnHhHL"
      },
      "source": [
        "Dictionary can also be built using loops."
      ]
    },
    {
      "cell_type": "code",
      "metadata": {
        "colab": {
          "base_uri": "https://localhost:8080/"
        },
        "id": "hZ0lqXp8HhHL",
        "outputId": "8e72936e-0eb4-4cd1-e8d7-fb58bb024cb2"
      },
      "source": [
        "for i in range(len(names)):\n",
        "    a1[names[i]] = numbers[i]\n",
        "print (a1)"
      ],
      "execution_count": null,
      "outputs": [
        {
          "output_type": "stream",
          "text": [
            "{'One': 1, 'Two': 2, 'Three': 3, 'Four': 4, 'Five': 5}\n"
          ],
          "name": "stdout"
        }
      ]
    },
    {
      "cell_type": "markdown",
      "metadata": {
        "id": "AUQgkrLfHhHM"
      },
      "source": [
        "**values( )** function returns a list with all the assigned values in the dictionary."
      ]
    },
    {
      "cell_type": "code",
      "metadata": {
        "colab": {
          "base_uri": "https://localhost:8080/"
        },
        "id": "CaBV4hevHhHM",
        "outputId": "37296f8d-f638-44f5-86b1-3ce4c6cdfb45"
      },
      "source": [
        "a1.values()"
      ],
      "execution_count": null,
      "outputs": [
        {
          "output_type": "execute_result",
          "data": {
            "text/plain": [
              "dict_values([1, 2, 3, 4, 5])"
            ]
          },
          "metadata": {
            "tags": []
          },
          "execution_count": 13
        }
      ]
    },
    {
      "cell_type": "markdown",
      "metadata": {
        "id": "PL-v8M7hHhHM"
      },
      "source": [
        "**keys( )** function returns all the index or the keys to which contains the values that it was assigned to."
      ]
    },
    {
      "cell_type": "code",
      "metadata": {
        "colab": {
          "base_uri": "https://localhost:8080/"
        },
        "id": "1-afXi6LHhHM",
        "outputId": "24f8085e-eb3e-4253-b2f9-cfb3d5a84461"
      },
      "source": [
        "a1.keys()"
      ],
      "execution_count": null,
      "outputs": [
        {
          "output_type": "execute_result",
          "data": {
            "text/plain": [
              "dict_keys(['One', 'Two', 'Three', 'Four', 'Five'])"
            ]
          },
          "metadata": {
            "tags": []
          },
          "execution_count": 14
        }
      ]
    },
    {
      "cell_type": "markdown",
      "metadata": {
        "id": "h_LNhDJhSnyN"
      },
      "source": [
        "Notice that in above statements, instead of lists, objects of dict_values and dict_keys were returned. In Python2, these instructions will output lists only. This is an optimization effort implemented in Python3."
      ]
    },
    {
      "cell_type": "markdown",
      "metadata": {
        "id": "0oWvYJzkHhHM"
      },
      "source": [
        "**items( )** is returns a list containing both the list but each element in the dictionary is inside a tuple. This is same as the result that was obtained when zip function was used."
      ]
    },
    {
      "cell_type": "code",
      "metadata": {
        "colab": {
          "base_uri": "https://localhost:8080/"
        },
        "id": "lC5J7CENHhHN",
        "outputId": "3cdfd8aa-4b7c-43e9-b292-ebfa95b89262"
      },
      "source": [
        "a1.items()"
      ],
      "execution_count": null,
      "outputs": [
        {
          "output_type": "execute_result",
          "data": {
            "text/plain": [
              "dict_items([('One', 1), ('Two', 2), ('Three', 3), ('Four', 4), ('Five', 5)])"
            ]
          },
          "metadata": {
            "tags": []
          },
          "execution_count": 15
        }
      ]
    },
    {
      "cell_type": "markdown",
      "metadata": {
        "id": "eYIVPb6xHhHN"
      },
      "source": [
        "**pop( )** function is used to remove a particular element and this removed element can be assigned to a new variable. But remember only the value is stored and not the key. Because the key is just an index value."
      ]
    },
    {
      "cell_type": "code",
      "metadata": {
        "colab": {
          "base_uri": "https://localhost:8080/"
        },
        "id": "LWDCuX-qHhHN",
        "outputId": "59892476-3c54-4181-98d1-c86d61fd226c"
      },
      "source": [
        "a2 = a1.pop('Four')\n",
        "print (a1)\n",
        "print (a2)"
      ],
      "execution_count": null,
      "outputs": [
        {
          "output_type": "stream",
          "text": [
            "{'One': 1, 'Two': 2, 'Three': 3, 'Five': 5}\n",
            "4\n"
          ],
          "name": "stdout"
        }
      ]
    }
  ]
}